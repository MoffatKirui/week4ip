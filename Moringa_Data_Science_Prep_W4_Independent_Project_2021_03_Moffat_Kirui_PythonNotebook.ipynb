{
  "nbformat": 4,
  "nbformat_minor": 0,
  "metadata": {
    "colab": {
      "name": "Moringa_Data_Science_Prep_W4_Independent_Project_2021_03_Moffat_Kirui_PythonNotebook.ipynb",
      "provenance": [],
      "toc_visible": true,
      "authorship_tag": "ABX9TyPamjeZxeti332uxcRpGoxx",
      "include_colab_link": true
    },
    "kernelspec": {
      "name": "python3",
      "display_name": "Python 3"
    },
    "language_info": {
      "name": "python"
    }
  },
  "cells": [
    {
      "cell_type": "markdown",
      "metadata": {
        "id": "view-in-github",
        "colab_type": "text"
      },
      "source": [
        "<a href=\"https://colab.research.google.com/github/MoffatKirui/week4ip/blob/main/Moringa_Data_Science_Prep_W4_Independent_Project_2021_03_Moffat_Kirui_PythonNotebook.ipynb\" target=\"_parent\"><img src=\"https://colab.research.google.com/assets/colab-badge.svg\" alt=\"Open In Colab\"/></a>"
      ]
    },
    {
      "cell_type": "markdown",
      "metadata": {
        "id": "6WFU6wTafTsl"
      },
      "source": [
        "#***ELECTRIC CAR SHARING SERIVCE COMPANY OPERATION'S ANALYSIS***\n",
        "\n",
        "---\n",
        "##**1.Importing our Libraries**\n"
      ]
    },
    {
      "cell_type": "code",
      "metadata": {
        "id": "IG19O_YbkKzS"
      },
      "source": [
        "#importing pandas library\n",
        "import pandas as pd\n",
        "#importing numpy library\n",
        "import numpy as np"
      ],
      "execution_count": 2,
      "outputs": []
    },
    {
      "cell_type": "markdown",
      "metadata": {
        "id": "tprl98AugHlG"
      },
      "source": [
        "##**2.Loading our dataset**\n",
        "\n",
        "---\n",
        "\n",
        "\n",
        "\n",
        "\n",
        "*   We will be loading our dataset from a url\n",
        "\n"
      ]
    },
    {
      "cell_type": "code",
      "metadata": {
        "id": "K6DqjMhHlcTk"
      },
      "source": [
        "#url with our dataset\n",
        "url='http://bit.ly/autolib_dataset'\n",
        "#reading the csv file from the url and creating a dataframe df\n",
        "df=pd.read_csv(url)\n"
      ],
      "execution_count": 3,
      "outputs": []
    },
    {
      "cell_type": "markdown",
      "metadata": {
        "id": "XsMq90r-ubZq"
      },
      "source": [
        "\n",
        "\n",
        "*   Previewing our data frame and accessing its information\n",
        "\n",
        "\n"
      ]
    },
    {
      "cell_type": "code",
      "metadata": {
        "colab": {
          "base_uri": "https://localhost:8080/",
          "height": 298
        },
        "id": "2cRjWw6zl0SE",
        "outputId": "c3cceeb6-b8a9-41bb-c4f9-06c91e45f19e"
      },
      "source": [
        "#previewing our dataframe\n",
        "df.head(3)"
      ],
      "execution_count": 4,
      "outputs": [
        {
          "output_type": "execute_result",
          "data": {
            "text/html": [
              "<div>\n",
              "<style scoped>\n",
              "    .dataframe tbody tr th:only-of-type {\n",
              "        vertical-align: middle;\n",
              "    }\n",
              "\n",
              "    .dataframe tbody tr th {\n",
              "        vertical-align: top;\n",
              "    }\n",
              "\n",
              "    .dataframe thead th {\n",
              "        text-align: right;\n",
              "    }\n",
              "</style>\n",
              "<table border=\"1\" class=\"dataframe\">\n",
              "  <thead>\n",
              "    <tr style=\"text-align: right;\">\n",
              "      <th></th>\n",
              "      <th>Address</th>\n",
              "      <th>Cars</th>\n",
              "      <th>Bluecar counter</th>\n",
              "      <th>Utilib counter</th>\n",
              "      <th>Utilib 1.4 counter</th>\n",
              "      <th>Charge Slots</th>\n",
              "      <th>Charging Status</th>\n",
              "      <th>City</th>\n",
              "      <th>Displayed comment</th>\n",
              "      <th>ID</th>\n",
              "      <th>Kind</th>\n",
              "      <th>Geo point</th>\n",
              "      <th>Postal code</th>\n",
              "      <th>Public name</th>\n",
              "      <th>Rental status</th>\n",
              "      <th>Scheduled at</th>\n",
              "      <th>Slots</th>\n",
              "      <th>Station type</th>\n",
              "      <th>Status</th>\n",
              "      <th>Subscription status</th>\n",
              "      <th>year</th>\n",
              "      <th>month</th>\n",
              "      <th>day</th>\n",
              "      <th>hour</th>\n",
              "      <th>minute</th>\n",
              "    </tr>\n",
              "  </thead>\n",
              "  <tbody>\n",
              "    <tr>\n",
              "      <th>0</th>\n",
              "      <td>2 Avenue de Suffren</td>\n",
              "      <td>0</td>\n",
              "      <td>0</td>\n",
              "      <td>0</td>\n",
              "      <td>0</td>\n",
              "      <td>0</td>\n",
              "      <td>nonexistent</td>\n",
              "      <td>Paris</td>\n",
              "      <td>NaN</td>\n",
              "      <td>paris-suffren-2</td>\n",
              "      <td>STATION</td>\n",
              "      <td>48.857, 2.2917</td>\n",
              "      <td>75015</td>\n",
              "      <td>Paris/Suffren/2</td>\n",
              "      <td>operational</td>\n",
              "      <td>NaN</td>\n",
              "      <td>2</td>\n",
              "      <td>station</td>\n",
              "      <td>ok</td>\n",
              "      <td>nonexistent</td>\n",
              "      <td>2018</td>\n",
              "      <td>4</td>\n",
              "      <td>8</td>\n",
              "      <td>11</td>\n",
              "      <td>43</td>\n",
              "    </tr>\n",
              "    <tr>\n",
              "      <th>1</th>\n",
              "      <td>145 Rue Raymond Losserand</td>\n",
              "      <td>6</td>\n",
              "      <td>6</td>\n",
              "      <td>0</td>\n",
              "      <td>0</td>\n",
              "      <td>0</td>\n",
              "      <td>operational</td>\n",
              "      <td>Paris</td>\n",
              "      <td>NaN</td>\n",
              "      <td>paris-raymondlosserand-145</td>\n",
              "      <td>STATION</td>\n",
              "      <td>48.83126, 2.313088</td>\n",
              "      <td>75014</td>\n",
              "      <td>Paris/Raymond Losserand/145</td>\n",
              "      <td>operational</td>\n",
              "      <td>NaN</td>\n",
              "      <td>0</td>\n",
              "      <td>station</td>\n",
              "      <td>ok</td>\n",
              "      <td>nonexistent</td>\n",
              "      <td>2018</td>\n",
              "      <td>4</td>\n",
              "      <td>6</td>\n",
              "      <td>7</td>\n",
              "      <td>24</td>\n",
              "    </tr>\n",
              "    <tr>\n",
              "      <th>2</th>\n",
              "      <td>2 Avenue John Fitzgerald Kennedy</td>\n",
              "      <td>3</td>\n",
              "      <td>3</td>\n",
              "      <td>0</td>\n",
              "      <td>2</td>\n",
              "      <td>0</td>\n",
              "      <td>operational</td>\n",
              "      <td>Le Bourget</td>\n",
              "      <td>NaN</td>\n",
              "      <td>lebourget-johnfitzgeraldkennedy-2</td>\n",
              "      <td>STATION</td>\n",
              "      <td>48.938103, 2.4286035</td>\n",
              "      <td>93350</td>\n",
              "      <td>Le Bourget/John Fitzgerald Kennedy/2</td>\n",
              "      <td>operational</td>\n",
              "      <td>NaN</td>\n",
              "      <td>1</td>\n",
              "      <td>station</td>\n",
              "      <td>ok</td>\n",
              "      <td>nonexistent</td>\n",
              "      <td>2018</td>\n",
              "      <td>4</td>\n",
              "      <td>3</td>\n",
              "      <td>20</td>\n",
              "      <td>14</td>\n",
              "    </tr>\n",
              "  </tbody>\n",
              "</table>\n",
              "</div>"
            ],
            "text/plain": [
              "                            Address  Cars  Bluecar counter  ...  day  hour  minute\n",
              "0               2 Avenue de Suffren     0                0  ...    8    11      43\n",
              "1         145 Rue Raymond Losserand     6                6  ...    6     7      24\n",
              "2  2 Avenue John Fitzgerald Kennedy     3                3  ...    3    20      14\n",
              "\n",
              "[3 rows x 25 columns]"
            ]
          },
          "metadata": {
            "tags": []
          },
          "execution_count": 4
        }
      ]
    },
    {
      "cell_type": "code",
      "metadata": {
        "colab": {
          "base_uri": "https://localhost:8080/"
        },
        "id": "_SKn-JqHDejf",
        "outputId": "a00bb835-7964-460b-c7a8-6d5803b28df5"
      },
      "source": [
        "#accessing information about the dataframe\n",
        "df.info()"
      ],
      "execution_count": 5,
      "outputs": [
        {
          "output_type": "stream",
          "text": [
            "<class 'pandas.core.frame.DataFrame'>\n",
            "RangeIndex: 5000 entries, 0 to 4999\n",
            "Data columns (total 25 columns):\n",
            " #   Column               Non-Null Count  Dtype \n",
            "---  ------               --------------  ----- \n",
            " 0   Address              5000 non-null   object\n",
            " 1   Cars                 5000 non-null   int64 \n",
            " 2   Bluecar counter      5000 non-null   int64 \n",
            " 3   Utilib counter       5000 non-null   int64 \n",
            " 4   Utilib 1.4 counter   5000 non-null   int64 \n",
            " 5   Charge Slots         5000 non-null   int64 \n",
            " 6   Charging Status      5000 non-null   object\n",
            " 7   City                 5000 non-null   object\n",
            " 8   Displayed comment    111 non-null    object\n",
            " 9   ID                   5000 non-null   object\n",
            " 10  Kind                 5000 non-null   object\n",
            " 11  Geo point            5000 non-null   object\n",
            " 12  Postal code          5000 non-null   int64 \n",
            " 13  Public name          5000 non-null   object\n",
            " 14  Rental status        5000 non-null   object\n",
            " 15  Scheduled at         47 non-null     object\n",
            " 16  Slots                5000 non-null   int64 \n",
            " 17  Station type         5000 non-null   object\n",
            " 18  Status               5000 non-null   object\n",
            " 19  Subscription status  5000 non-null   object\n",
            " 20  year                 5000 non-null   int64 \n",
            " 21  month                5000 non-null   int64 \n",
            " 22  day                  5000 non-null   int64 \n",
            " 23  hour                 5000 non-null   int64 \n",
            " 24  minute               5000 non-null   int64 \n",
            "dtypes: int64(12), object(13)\n",
            "memory usage: 976.7+ KB\n"
          ],
          "name": "stdout"
        }
      ]
    },
    {
      "cell_type": "markdown",
      "metadata": {
        "id": "hY23SxBYu2lN"
      },
      "source": [
        "##**3.Data Cleaning**"
      ]
    },
    {
      "cell_type": "markdown",
      "metadata": {
        "id": "EKpZTQLOvHuA"
      },
      "source": [
        "\n",
        "\n",
        "###  Validity\n",
        "\n",
        "\n",
        "\n",
        "\n"
      ]
    },
    {
      "cell_type": "code",
      "metadata": {
        "colab": {
          "base_uri": "https://localhost:8080/",
          "height": 360
        },
        "id": "Mc-pNVupChku",
        "outputId": "3ff166a5-30cf-4fc5-9f7c-91850ee0ee20"
      },
      "source": [
        "#dropping irrelevant columns\n",
        "df.drop(['Address','Displayed comment','ID','Geo point','Cars','Subscription status','Charge Slots','Charging Status','Scheduled at','Slots'], axis=1,inplace=True)\n",
        "df.head()"
      ],
      "execution_count": 6,
      "outputs": [
        {
          "output_type": "execute_result",
          "data": {
            "text/html": [
              "<div>\n",
              "<style scoped>\n",
              "    .dataframe tbody tr th:only-of-type {\n",
              "        vertical-align: middle;\n",
              "    }\n",
              "\n",
              "    .dataframe tbody tr th {\n",
              "        vertical-align: top;\n",
              "    }\n",
              "\n",
              "    .dataframe thead th {\n",
              "        text-align: right;\n",
              "    }\n",
              "</style>\n",
              "<table border=\"1\" class=\"dataframe\">\n",
              "  <thead>\n",
              "    <tr style=\"text-align: right;\">\n",
              "      <th></th>\n",
              "      <th>Bluecar counter</th>\n",
              "      <th>Utilib counter</th>\n",
              "      <th>Utilib 1.4 counter</th>\n",
              "      <th>City</th>\n",
              "      <th>Kind</th>\n",
              "      <th>Postal code</th>\n",
              "      <th>Public name</th>\n",
              "      <th>Rental status</th>\n",
              "      <th>Station type</th>\n",
              "      <th>Status</th>\n",
              "      <th>year</th>\n",
              "      <th>month</th>\n",
              "      <th>day</th>\n",
              "      <th>hour</th>\n",
              "      <th>minute</th>\n",
              "    </tr>\n",
              "  </thead>\n",
              "  <tbody>\n",
              "    <tr>\n",
              "      <th>0</th>\n",
              "      <td>0</td>\n",
              "      <td>0</td>\n",
              "      <td>0</td>\n",
              "      <td>Paris</td>\n",
              "      <td>STATION</td>\n",
              "      <td>75015</td>\n",
              "      <td>Paris/Suffren/2</td>\n",
              "      <td>operational</td>\n",
              "      <td>station</td>\n",
              "      <td>ok</td>\n",
              "      <td>2018</td>\n",
              "      <td>4</td>\n",
              "      <td>8</td>\n",
              "      <td>11</td>\n",
              "      <td>43</td>\n",
              "    </tr>\n",
              "    <tr>\n",
              "      <th>1</th>\n",
              "      <td>6</td>\n",
              "      <td>0</td>\n",
              "      <td>0</td>\n",
              "      <td>Paris</td>\n",
              "      <td>STATION</td>\n",
              "      <td>75014</td>\n",
              "      <td>Paris/Raymond Losserand/145</td>\n",
              "      <td>operational</td>\n",
              "      <td>station</td>\n",
              "      <td>ok</td>\n",
              "      <td>2018</td>\n",
              "      <td>4</td>\n",
              "      <td>6</td>\n",
              "      <td>7</td>\n",
              "      <td>24</td>\n",
              "    </tr>\n",
              "    <tr>\n",
              "      <th>2</th>\n",
              "      <td>3</td>\n",
              "      <td>0</td>\n",
              "      <td>2</td>\n",
              "      <td>Le Bourget</td>\n",
              "      <td>STATION</td>\n",
              "      <td>93350</td>\n",
              "      <td>Le Bourget/John Fitzgerald Kennedy/2</td>\n",
              "      <td>operational</td>\n",
              "      <td>station</td>\n",
              "      <td>ok</td>\n",
              "      <td>2018</td>\n",
              "      <td>4</td>\n",
              "      <td>3</td>\n",
              "      <td>20</td>\n",
              "      <td>14</td>\n",
              "    </tr>\n",
              "    <tr>\n",
              "      <th>3</th>\n",
              "      <td>3</td>\n",
              "      <td>1</td>\n",
              "      <td>0</td>\n",
              "      <td>Paris</td>\n",
              "      <td>STATION</td>\n",
              "      <td>75013</td>\n",
              "      <td>Paris/EugÃ¨ne OudinÃ©/51</td>\n",
              "      <td>operational</td>\n",
              "      <td>station</td>\n",
              "      <td>ok</td>\n",
              "      <td>2018</td>\n",
              "      <td>4</td>\n",
              "      <td>4</td>\n",
              "      <td>4</td>\n",
              "      <td>37</td>\n",
              "    </tr>\n",
              "    <tr>\n",
              "      <th>4</th>\n",
              "      <td>3</td>\n",
              "      <td>0</td>\n",
              "      <td>0</td>\n",
              "      <td>Paris</td>\n",
              "      <td>PARKING</td>\n",
              "      <td>75017</td>\n",
              "      <td>Paris/Porte de Champerret/6</td>\n",
              "      <td>operational</td>\n",
              "      <td>station</td>\n",
              "      <td>ok</td>\n",
              "      <td>2018</td>\n",
              "      <td>4</td>\n",
              "      <td>8</td>\n",
              "      <td>17</td>\n",
              "      <td>23</td>\n",
              "    </tr>\n",
              "  </tbody>\n",
              "</table>\n",
              "</div>"
            ],
            "text/plain": [
              "   Bluecar counter  Utilib counter  Utilib 1.4 counter  ... day hour  minute\n",
              "0                0               0                   0  ...   8   11      43\n",
              "1                6               0                   0  ...   6    7      24\n",
              "2                3               0                   2  ...   3   20      14\n",
              "3                3               1                   0  ...   4    4      37\n",
              "4                3               0                   0  ...   8   17      23\n",
              "\n",
              "[5 rows x 15 columns]"
            ]
          },
          "metadata": {
            "tags": []
          },
          "execution_count": 6
        }
      ]
    },
    {
      "cell_type": "markdown",
      "metadata": {
        "id": "kXwq7JiOzX1Q"
      },
      "source": [
        "###Accuracy"
      ]
    },
    {
      "cell_type": "code",
      "metadata": {
        "id": "L0F66WIwFf_c"
      },
      "source": [
        "#filtering data to fit conditions for our analys\n",
        "df=df[(df['city']== 'Paris') & (df['rental_status']== 'operational') & (df['status']== 'ok')]\n",
        "#dropping the columns as the would be similar for all rows\n",
        "df.drop(['city','rental_status','status'],axis=1,inplace=True)"
      ],
      "execution_count": 31,
      "outputs": []
    },
    {
      "cell_type": "markdown",
      "metadata": {
        "id": "IAsR4kub0U_J"
      },
      "source": [
        "###Completeness"
      ]
    },
    {
      "cell_type": "code",
      "metadata": {
        "colab": {
          "base_uri": "https://localhost:8080/"
        },
        "id": "uEr1h5hP0aBC",
        "outputId": "7e24e401-8460-4798-9098-e5cf4dbf201b"
      },
      "source": [
        "#checking for null values in the remaining dataframe\n",
        "df.isnull().any()"
      ],
      "execution_count": 11,
      "outputs": [
        {
          "output_type": "execute_result",
          "data": {
            "text/plain": [
              "Bluecar counter       False\n",
              "Utilib counter        False\n",
              "Utilib 1.4 counter    False\n",
              "City                  False\n",
              "Kind                  False\n",
              "Postal code           False\n",
              "Public name           False\n",
              "Rental status         False\n",
              "Station type          False\n",
              "Status                False\n",
              "year                  False\n",
              "month                 False\n",
              "day                   False\n",
              "hour                  False\n",
              "minute                False\n",
              "dtype: bool"
            ]
          },
          "metadata": {
            "tags": []
          },
          "execution_count": 11
        }
      ]
    },
    {
      "cell_type": "markdown",
      "metadata": {
        "id": "2uw_HK5N29r_"
      },
      "source": [
        "###Consistency"
      ]
    },
    {
      "cell_type": "code",
      "metadata": {
        "colab": {
          "base_uri": "https://localhost:8080/",
          "height": 49
        },
        "id": "uH7C39VF09w_",
        "outputId": "869c17c9-22a5-494a-969c-2f625bb2ee90"
      },
      "source": [
        "#checking for duplicates\n",
        "df[df.duplicated()==True]"
      ],
      "execution_count": 32,
      "outputs": [
        {
          "output_type": "execute_result",
          "data": {
            "text/html": [
              "<div>\n",
              "<style scoped>\n",
              "    .dataframe tbody tr th:only-of-type {\n",
              "        vertical-align: middle;\n",
              "    }\n",
              "\n",
              "    .dataframe tbody tr th {\n",
              "        vertical-align: top;\n",
              "    }\n",
              "\n",
              "    .dataframe thead th {\n",
              "        text-align: right;\n",
              "    }\n",
              "</style>\n",
              "<table border=\"1\" class=\"dataframe\">\n",
              "  <thead>\n",
              "    <tr style=\"text-align: right;\">\n",
              "      <th></th>\n",
              "      <th>bluecar_counter</th>\n",
              "      <th>utilib_counter</th>\n",
              "      <th>utilib_1.4_counter</th>\n",
              "      <th>kind</th>\n",
              "      <th>postal_code</th>\n",
              "      <th>public_name</th>\n",
              "      <th>station_type</th>\n",
              "      <th>DateTime</th>\n",
              "    </tr>\n",
              "  </thead>\n",
              "  <tbody>\n",
              "  </tbody>\n",
              "</table>\n",
              "</div>"
            ],
            "text/plain": [
              "Empty DataFrame\n",
              "Columns: [bluecar_counter, utilib_counter, utilib_1.4_counter, kind, postal_code, public_name, station_type, DateTime]\n",
              "Index: []"
            ]
          },
          "metadata": {
            "tags": []
          },
          "execution_count": 32
        }
      ]
    },
    {
      "cell_type": "markdown",
      "metadata": {
        "id": "BNLfECWL3ZVT"
      },
      "source": [
        "###Uniformity"
      ]
    },
    {
      "cell_type": "code",
      "metadata": {
        "colab": {
          "base_uri": "https://localhost:8080/",
          "height": 49
        },
        "id": "YUyx-czH4i1M",
        "outputId": "69b08559-e05f-4070-ecd1-57bc28996a31"
      },
      "source": [
        "#chaining str functions to ensure uniformity in column names\n",
        "df.columns = df.columns.str.strip().str.lower().str.replace(' ', '_').str.replace('(', '').str.replace(')', '')\n",
        "df.head(0)"
      ],
      "execution_count": 41,
      "outputs": [
        {
          "output_type": "execute_result",
          "data": {
            "text/html": [
              "<div>\n",
              "<style scoped>\n",
              "    .dataframe tbody tr th:only-of-type {\n",
              "        vertical-align: middle;\n",
              "    }\n",
              "\n",
              "    .dataframe tbody tr th {\n",
              "        vertical-align: top;\n",
              "    }\n",
              "\n",
              "    .dataframe thead th {\n",
              "        text-align: right;\n",
              "    }\n",
              "</style>\n",
              "<table border=\"1\" class=\"dataframe\">\n",
              "  <thead>\n",
              "    <tr style=\"text-align: right;\">\n",
              "      <th></th>\n",
              "      <th>bluecar_counter</th>\n",
              "      <th>utilib_counter</th>\n",
              "      <th>utilib_1.4_counter</th>\n",
              "      <th>kind</th>\n",
              "      <th>postal_code</th>\n",
              "      <th>public_name</th>\n",
              "      <th>station_type</th>\n",
              "      <th>datetime</th>\n",
              "    </tr>\n",
              "  </thead>\n",
              "  <tbody>\n",
              "  </tbody>\n",
              "</table>\n",
              "</div>"
            ],
            "text/plain": [
              "Empty DataFrame\n",
              "Columns: [bluecar_counter, utilib_counter, utilib_1.4_counter, kind, postal_code, public_name, station_type, datetime]\n",
              "Index: []"
            ]
          },
          "metadata": {
            "tags": []
          },
          "execution_count": 41
        }
      ]
    },
    {
      "cell_type": "markdown",
      "metadata": {
        "id": "jZTREu-K5LQ1"
      },
      "source": [
        "##**4.Deriving new attributes**"
      ]
    },
    {
      "cell_type": "code",
      "metadata": {
        "id": "cw0Ylt9Sw3qr"
      },
      "source": [
        "#creating a new column with all the date and time objects\n",
        "df['DateTime']=pd.to_datetime(df[['year', 'month', 'day', 'hour', 'minute']])\n"
      ],
      "execution_count": 21,
      "outputs": []
    },
    {
      "cell_type": "code",
      "metadata": {
        "id": "Ztd_JOvvxc-Q"
      },
      "source": [
        "#dropping the columns as we have them under one column\n",
        "df.drop(['year', 'month', 'day', 'hour', 'minute'],axis=1,inplace=True)"
      ],
      "execution_count": 22,
      "outputs": []
    },
    {
      "cell_type": "code",
      "metadata": {
        "colab": {
          "base_uri": "https://localhost:8080/"
        },
        "id": "YjjO9hjX60xT",
        "outputId": "3f528705-665d-4cb0-f483-7bdbfd415f75"
      },
      "source": [
        "df.columns"
      ],
      "execution_count": 40,
      "outputs": [
        {
          "output_type": "execute_result",
          "data": {
            "text/plain": [
              "Index(['bluecar_counter', 'utilib_counter', 'utilib_1.4_counter', 'kind',\n",
              "       'postal_code', 'public_name', 'station_type', 'datetime'],\n",
              "      dtype='object')"
            ]
          },
          "metadata": {
            "tags": []
          },
          "execution_count": 40
        }
      ]
    },
    {
      "cell_type": "code",
      "metadata": {
        "id": "0CLVehy3BhT0"
      },
      "source": [
        "#creating a copy of our dataframe to alter the values of the cars counter to display usage\n",
        "#+ve number means that a car was returned -ve number means that a car was picked 0 means that nothing happened, i.e no car was picked nor returned\n",
        "#\n",
        "#start by arranging values according to station and datetime\n",
        "dp=df.sort_values(by=['public_name','datetime'],ascending=True,ignore_index=True)\n",
        "#altering the columns to display usage\n",
        "dp['bluecar_counter']=dp.groupby('public_name')['bluecar_counter'].diff().fillna(0)\n",
        "dp['utilib_counter']=dp.groupby('public_name')['utilib_counter'].diff().fillna(0)\n",
        "dp['utilib_1.4_counter']=dp.groupby('public_name')['utilib_1.4_counter'].diff().fillna(0)\n"
      ],
      "execution_count": 35,
      "outputs": []
    },
    {
      "cell_type": "code",
      "metadata": {
        "colab": {
          "base_uri": "https://localhost:8080/",
          "height": 289
        },
        "id": "hIhPJMqC8JGF",
        "outputId": "927f6969-ba2f-46dd-fb7b-6aa01982a4d1"
      },
      "source": [
        "dp.head()"
      ],
      "execution_count": 43,
      "outputs": [
        {
          "output_type": "execute_result",
          "data": {
            "text/html": [
              "<div>\n",
              "<style scoped>\n",
              "    .dataframe tbody tr th:only-of-type {\n",
              "        vertical-align: middle;\n",
              "    }\n",
              "\n",
              "    .dataframe tbody tr th {\n",
              "        vertical-align: top;\n",
              "    }\n",
              "\n",
              "    .dataframe thead th {\n",
              "        text-align: right;\n",
              "    }\n",
              "</style>\n",
              "<table border=\"1\" class=\"dataframe\">\n",
              "  <thead>\n",
              "    <tr style=\"text-align: right;\">\n",
              "      <th></th>\n",
              "      <th>bluecar_counter</th>\n",
              "      <th>utilib_counter</th>\n",
              "      <th>utilib_1.4_counter</th>\n",
              "      <th>kind</th>\n",
              "      <th>postal_code</th>\n",
              "      <th>public_name</th>\n",
              "      <th>station_type</th>\n",
              "      <th>datetime</th>\n",
              "    </tr>\n",
              "  </thead>\n",
              "  <tbody>\n",
              "    <tr>\n",
              "      <th>0</th>\n",
              "      <td>0.0</td>\n",
              "      <td>0.0</td>\n",
              "      <td>0.0</td>\n",
              "      <td>STATION</td>\n",
              "      <td>75014</td>\n",
              "      <td>Paris/25 AoÃ»t 1944/8</td>\n",
              "      <td>station</td>\n",
              "      <td>2018-04-01 18:40:00</td>\n",
              "    </tr>\n",
              "    <tr>\n",
              "      <th>1</th>\n",
              "      <td>3.0</td>\n",
              "      <td>0.0</td>\n",
              "      <td>0.0</td>\n",
              "      <td>STATION</td>\n",
              "      <td>75014</td>\n",
              "      <td>Paris/25 AoÃ»t 1944/8</td>\n",
              "      <td>station</td>\n",
              "      <td>2018-04-02 07:37:00</td>\n",
              "    </tr>\n",
              "    <tr>\n",
              "      <th>2</th>\n",
              "      <td>-2.0</td>\n",
              "      <td>0.0</td>\n",
              "      <td>0.0</td>\n",
              "      <td>STATION</td>\n",
              "      <td>75014</td>\n",
              "      <td>Paris/25 AoÃ»t 1944/8</td>\n",
              "      <td>station</td>\n",
              "      <td>2018-04-02 12:49:00</td>\n",
              "    </tr>\n",
              "    <tr>\n",
              "      <th>3</th>\n",
              "      <td>1.0</td>\n",
              "      <td>0.0</td>\n",
              "      <td>0.0</td>\n",
              "      <td>STATION</td>\n",
              "      <td>75014</td>\n",
              "      <td>Paris/25 AoÃ»t 1944/8</td>\n",
              "      <td>station</td>\n",
              "      <td>2018-04-04 03:10:00</td>\n",
              "    </tr>\n",
              "    <tr>\n",
              "      <th>4</th>\n",
              "      <td>-2.0</td>\n",
              "      <td>0.0</td>\n",
              "      <td>0.0</td>\n",
              "      <td>STATION</td>\n",
              "      <td>75014</td>\n",
              "      <td>Paris/25 AoÃ»t 1944/8</td>\n",
              "      <td>station</td>\n",
              "      <td>2018-04-04 18:48:00</td>\n",
              "    </tr>\n",
              "  </tbody>\n",
              "</table>\n",
              "</div>"
            ],
            "text/plain": [
              "   bluecar_counter  utilib_counter  ...  station_type            datetime\n",
              "0              0.0             0.0  ...       station 2018-04-01 18:40:00\n",
              "1              3.0             0.0  ...       station 2018-04-02 07:37:00\n",
              "2             -2.0             0.0  ...       station 2018-04-02 12:49:00\n",
              "3              1.0             0.0  ...       station 2018-04-04 03:10:00\n",
              "4             -2.0             0.0  ...       station 2018-04-04 18:48:00\n",
              "\n",
              "[5 rows x 8 columns]"
            ]
          },
          "metadata": {
            "tags": []
          },
          "execution_count": 43
        }
      ]
    },
    {
      "cell_type": "markdown",
      "metadata": {
        "id": "uLmq08XcACmv"
      },
      "source": [
        "##**5.Analysis**"
      ]
    },
    {
      "cell_type": "markdown",
      "metadata": {
        "id": "JLzaggsnEVf_"
      },
      "source": [
        "###Bluecar"
      ]
    },
    {
      "cell_type": "markdown",
      "metadata": {
        "id": "RLWCa5DhAXkC"
      },
      "source": [
        "-Identify the most popular hour of the day for picking up a shared electric car (Bluecar) in the city of Paris over the month of April 2018"
      ]
    },
    {
      "cell_type": "code",
      "metadata": {
        "colab": {
          "base_uri": "https://localhost:8080/"
        },
        "id": "FfO-egcEAKvG",
        "outputId": "f23a5cc0-a352-454b-a474-740dd7bc83d4"
      },
      "source": [
        "#filtering only those cars that were being picked\n",
        "x=dp[dp['bluecar_counter']<0]\n",
        "#grouping by hour then selecting the one with most counts\n",
        "x.groupby(x['datetime'].dt.hour)['bluecar_counter'].count().sort_values(ascending=False).head(1)"
      ],
      "execution_count": 86,
      "outputs": [
        {
          "output_type": "execute_result",
          "data": {
            "text/plain": [
              "datetime\n",
              "21    44\n",
              "Name: bluecar_counter, dtype: int64"
            ]
          },
          "metadata": {
            "tags": []
          },
          "execution_count": 86
        }
      ]
    },
    {
      "cell_type": "markdown",
      "metadata": {
        "id": "syuUSRwJEIIM"
      },
      "source": [
        "-What is the most popular hour for returning cars?"
      ]
    },
    {
      "cell_type": "code",
      "metadata": {
        "colab": {
          "base_uri": "https://localhost:8080/"
        },
        "id": "4GKTTABjEKNs",
        "outputId": "37241eb9-8001-45cc-b91f-51b73bbc9a86"
      },
      "source": [
        "#filtering cars that were being returned\n",
        "x=dp[dp['bluecar_counter']>0]\n",
        "#grouping by hour then selecting the one with most counts\n",
        "x.groupby(x['datetime'].dt.hour)['bluecar_counter'].count().sort_values(ascending=False).head(1)"
      ],
      "execution_count": 85,
      "outputs": [
        {
          "output_type": "execute_result",
          "data": {
            "text/plain": [
              "datetime\n",
              "12    47\n",
              "Name: bluecar_counter, dtype: int64"
            ]
          },
          "metadata": {
            "tags": []
          },
          "execution_count": 85
        }
      ]
    },
    {
      "cell_type": "markdown",
      "metadata": {
        "id": "nDFyAHytEunD"
      },
      "source": [
        "-What station is the most popular?\n",
        "\n",
        "\n",
        "---\n",
        "\n",
        "\n",
        "Overall?\n",
        "\n",
        "\n",
        "\n"
      ]
    },
    {
      "cell_type": "code",
      "metadata": {
        "colab": {
          "base_uri": "https://localhost:8080/"
        },
        "id": "rI0RU6CuE1S2",
        "outputId": "0bad7fde-35e9-4f84-f71c-b2cf0538d08f"
      },
      "source": [
        "#grouping by station and picking the most popular\n",
        "dp.groupby('public_name')['bluecar_counter'].count().sort_values(ascending=False).head(1)"
      ],
      "execution_count": 53,
      "outputs": [
        {
          "output_type": "execute_result",
          "data": {
            "text/plain": [
              "public_name\n",
              "Paris/Porte de Montrouge/8    13\n",
              "Name: bluecar_counter, dtype: int64"
            ]
          },
          "metadata": {
            "tags": []
          },
          "execution_count": 53
        }
      ]
    },
    {
      "cell_type": "markdown",
      "metadata": {
        "id": "nOiAjW5rFfGP"
      },
      "source": [
        "At the most popular picking hour?"
      ]
    },
    {
      "cell_type": "code",
      "metadata": {
        "colab": {
          "base_uri": "https://localhost:8080/"
        },
        "id": "wUpY35mjGE_i",
        "outputId": "27012ab7-605a-4a50-ff4b-327fcbdd5568"
      },
      "source": [
        "#filtering by the most popular hour\n",
        "x=dp[dp.datetime.dt.hour==21]\n",
        "#grouping by station and picking the most popular\n",
        "x.groupby('public_name')['bluecar_counter'].count().sort_values(ascending=False).head(1)"
      ],
      "execution_count": 55,
      "outputs": [
        {
          "output_type": "execute_result",
          "data": {
            "text/plain": [
              "public_name\n",
              "Paris/Tronchet/19    4\n",
              "Name: bluecar_counter, dtype: int64"
            ]
          },
          "metadata": {
            "tags": []
          },
          "execution_count": 55
        }
      ]
    },
    {
      "cell_type": "markdown",
      "metadata": {
        "id": "fMvNrRpSGyn7"
      },
      "source": [
        "-What postal code is the most popular for picking up Blue cars? Does the most popular station belong to that postal code?\n",
        "\n",
        "\n",
        "---\n",
        "\n",
        "overall?"
      ]
    },
    {
      "cell_type": "code",
      "metadata": {
        "colab": {
          "base_uri": "https://localhost:8080/"
        },
        "id": "mP0a5SNnHPV5",
        "outputId": "113eb446-115e-4f1b-efb1-b839e810d426"
      },
      "source": [
        "#filtering bluecars that were being picked\n",
        "x=dp[dp['bluecar_counter']<0]\n",
        "#selecting the most popular postal code\n",
        "x.groupby('postal_code')['bluecar_counter'].count().sort_values(ascending=False).head(1)"
      ],
      "execution_count": 84,
      "outputs": [
        {
          "output_type": "execute_result",
          "data": {
            "text/plain": [
              "postal_code\n",
              "75015    76\n",
              "Name: bluecar_counter, dtype: int64"
            ]
          },
          "metadata": {
            "tags": []
          },
          "execution_count": 84
        }
      ]
    },
    {
      "cell_type": "code",
      "metadata": {
        "colab": {
          "base_uri": "https://localhost:8080/"
        },
        "id": "rauE2lCjH3ky",
        "outputId": "6d39e779-061f-446b-d921-a1e65f7dbc1d"
      },
      "source": [
        "#selecting the most popular station for picking cars and its postal code\n",
        "x.groupby(['public_name','postal_code'])['bluecar_counter'].count().sort_values(ascending=False).head(1)"
      ],
      "execution_count": 59,
      "outputs": [
        {
          "output_type": "execute_result",
          "data": {
            "text/plain": [
              "public_name                 postal_code\n",
              "Paris/Porte de Montrouge/8  75014          6\n",
              "Name: bluecar_counter, dtype: int64"
            ]
          },
          "metadata": {
            "tags": []
          },
          "execution_count": 59
        }
      ]
    },
    {
      "cell_type": "markdown",
      "metadata": {
        "id": "w8qg792yJP0E"
      },
      "source": [
        "At the most popular picking hour?"
      ]
    },
    {
      "cell_type": "code",
      "metadata": {
        "colab": {
          "base_uri": "https://localhost:8080/"
        },
        "id": "LpvVPG-ZJXvO",
        "outputId": "40973d45-95cf-459b-bcbc-54e45d31685a"
      },
      "source": [
        "#filtering cars that were being picked by the most popular hour\n",
        "y=x[x.datetime.dt.hour==21]\n",
        "#selecting most popular postal code\n",
        "y.groupby('postal_code')['bluecar_counter'].count().sort_values(ascending=False).head(1)"
      ],
      "execution_count": 87,
      "outputs": [
        {
          "output_type": "execute_result",
          "data": {
            "text/plain": [
              "postal_code\n",
              "75016    6\n",
              "Name: bluecar_counter, dtype: int64"
            ]
          },
          "metadata": {
            "tags": []
          },
          "execution_count": 87
        }
      ]
    },
    {
      "cell_type": "code",
      "metadata": {
        "colab": {
          "base_uri": "https://localhost:8080/"
        },
        "id": "yzx3pXx5KbFw",
        "outputId": "4474f3d1-10d0-49c4-c635-ad94f08809eb"
      },
      "source": [
        "#selecting most popular station and its postal code at the most popular hour\n",
        "y.groupby(['public_name','postal_code'])['bluecar_counter'].count().sort_values(ascending=False).head(1)"
      ],
      "execution_count": 61,
      "outputs": [
        {
          "output_type": "execute_result",
          "data": {
            "text/plain": [
              "public_name      postal_code\n",
              "Paris/Mozart/68  75016          2\n",
              "Name: bluecar_counter, dtype: int64"
            ]
          },
          "metadata": {
            "tags": []
          },
          "execution_count": 61
        }
      ]
    },
    {
      "cell_type": "markdown",
      "metadata": {
        "id": "3-VLMOdtNTt9"
      },
      "source": [
        "###Utilib"
      ]
    },
    {
      "cell_type": "markdown",
      "metadata": {
        "id": "gJIPBD1bNhWU"
      },
      "source": [
        "-Identify the most popular hour of the day for picking up a shared electric car (Utilib) in the city of Paris over the month of April 2018"
      ]
    },
    {
      "cell_type": "code",
      "metadata": {
        "colab": {
          "base_uri": "https://localhost:8080/"
        },
        "id": "DG7akVkkNpsJ",
        "outputId": "3c519902-56dc-48ee-e07d-20b4b11f72fe"
      },
      "source": [
        "#filtering only those cars that were being picked\n",
        "x=dp[dp['utilib_counter']<0]\n",
        "#grouping by hour then selecting the one with most counts\n",
        "x.groupby(x['datetime'].dt.hour)['bluecar_counter'].count().sort_values(ascending=False).head(1)"
      ],
      "execution_count": 88,
      "outputs": [
        {
          "output_type": "execute_result",
          "data": {
            "text/plain": [
              "datetime\n",
              "23    8\n",
              "Name: bluecar_counter, dtype: int64"
            ]
          },
          "metadata": {
            "tags": []
          },
          "execution_count": 88
        }
      ]
    },
    {
      "cell_type": "markdown",
      "metadata": {
        "id": "JLiyL_iTN-wQ"
      },
      "source": [
        "What is the most popular hour for returning cars?"
      ]
    },
    {
      "cell_type": "code",
      "metadata": {
        "colab": {
          "base_uri": "https://localhost:8080/"
        },
        "id": "JLPiWdknNpk0",
        "outputId": "5b1a407b-eb93-4307-8d9c-906e56bd2be6"
      },
      "source": [
        "#filtering cars that were being picked\n",
        "x=dp[dp['utilib_counter']>0]\n",
        "#grouping by hour then selecting the one with most counts\n",
        "x.groupby(x['datetime'].dt.hour)['bluecar_counter'].count().sort_values(ascending=False).head(1)"
      ],
      "execution_count": 64,
      "outputs": [
        {
          "output_type": "execute_result",
          "data": {
            "text/plain": [
              "datetime\n",
              "6    8\n",
              "Name: bluecar_counter, dtype: int64"
            ]
          },
          "metadata": {
            "tags": []
          },
          "execution_count": 64
        }
      ]
    },
    {
      "cell_type": "markdown",
      "metadata": {
        "id": "2RQVMcvyXm3q"
      },
      "source": [
        "-What station is the most popular?\n",
        "\n",
        "Overall?"
      ]
    },
    {
      "cell_type": "code",
      "metadata": {
        "colab": {
          "base_uri": "https://localhost:8080/"
        },
        "id": "JB4cRjwTXtmZ",
        "outputId": "f8a1d1ac-885e-4fc7-a24f-c475dfc5d77f"
      },
      "source": [
        "#grouping by station and picking the most popular\n",
        "dp.groupby('public_name')['utilib_counter'].count().sort_values(ascending=False).head(1)"
      ],
      "execution_count": 89,
      "outputs": [
        {
          "output_type": "execute_result",
          "data": {
            "text/plain": [
              "public_name\n",
              "Paris/Porte de Montrouge/8    13\n",
              "Name: utilib_counter, dtype: int64"
            ]
          },
          "metadata": {
            "tags": []
          },
          "execution_count": 89
        }
      ]
    },
    {
      "cell_type": "markdown",
      "metadata": {
        "id": "Q_XHsq0VYDhy"
      },
      "source": [
        "At the most popular picking hour?"
      ]
    },
    {
      "cell_type": "code",
      "metadata": {
        "colab": {
          "base_uri": "https://localhost:8080/"
        },
        "id": "r8BU_xssYKr8",
        "outputId": "be936e4a-1342-43cd-9819-f16eb9b983d3"
      },
      "source": [
        "x=dp[dp.datetime.dt.hour==23]\n",
        "#grouping by station and picking the most popular\n",
        "x.groupby('public_name')['bluecar_counter'].count().sort_values(ascending=False).head(1)"
      ],
      "execution_count": 90,
      "outputs": [
        {
          "output_type": "execute_result",
          "data": {
            "text/plain": [
              "public_name\n",
              "Paris/Adolphe Yvon/6    2\n",
              "Name: bluecar_counter, dtype: int64"
            ]
          },
          "metadata": {
            "tags": []
          },
          "execution_count": 90
        }
      ]
    },
    {
      "cell_type": "markdown",
      "metadata": {
        "id": "lNd18668OO4c"
      },
      "source": [
        "What postal code is the most popular for picking up Blue cars? Does the most popular station belong to that postal code?\n",
        "\n",
        "Overall?"
      ]
    },
    {
      "cell_type": "code",
      "metadata": {
        "colab": {
          "base_uri": "https://localhost:8080/"
        },
        "id": "MB4SdI1SOWxL",
        "outputId": "fbfadcac-fabf-4da8-e724-2f24c55d9a7a"
      },
      "source": [
        "#filtering cars that were being picked\n",
        "x=dp[dp['utilib_counter']<0]\n",
        "#selecting the most popular postal code\n",
        "x.groupby('postal_code')['bluecar_counter'].count().sort_values(ascending=False).head(1)"
      ],
      "execution_count": 67,
      "outputs": [
        {
          "output_type": "execute_result",
          "data": {
            "text/plain": [
              "postal_code\n",
              "75017    13\n",
              "Name: bluecar_counter, dtype: int64"
            ]
          },
          "metadata": {
            "tags": []
          },
          "execution_count": 67
        }
      ]
    },
    {
      "cell_type": "code",
      "metadata": {
        "colab": {
          "base_uri": "https://localhost:8080/"
        },
        "id": "cJqV1u9PPaRK",
        "outputId": "2c79c5fa-bd0b-45a4-8f68-e08aa1ef054e"
      },
      "source": [
        "#selecting the most popular station for picking cars and its postal code\n",
        "x.groupby(['public_name','postal_code'])['bluecar_counter'].count().sort_values(ascending=False).head(1)"
      ],
      "execution_count": 68,
      "outputs": [
        {
          "output_type": "execute_result",
          "data": {
            "text/plain": [
              "public_name                 postal_code\n",
              "Paris/Porte de Montrouge/8  75014          2\n",
              "Name: bluecar_counter, dtype: int64"
            ]
          },
          "metadata": {
            "tags": []
          },
          "execution_count": 68
        }
      ]
    },
    {
      "cell_type": "markdown",
      "metadata": {
        "id": "VcY5IFM_Pn-D"
      },
      "source": [
        "At the most popular picking hour?"
      ]
    },
    {
      "cell_type": "code",
      "metadata": {
        "colab": {
          "base_uri": "https://localhost:8080/"
        },
        "id": "bshL-qvGPp5_",
        "outputId": "38d3de3d-4c76-41f7-d86f-9acf64a82454"
      },
      "source": [
        "#filtering cars that were being picked by the most popular hour\n",
        "y=x[x.datetime.dt.hour==23]\n",
        "#selecting most popular postal code\n",
        "y.groupby('postal_code')['bluecar_counter'].count().sort_values(ascending=False).head(1)"
      ],
      "execution_count": 69,
      "outputs": [
        {
          "output_type": "execute_result",
          "data": {
            "text/plain": [
              "postal_code\n",
              "75013    2\n",
              "Name: bluecar_counter, dtype: int64"
            ]
          },
          "metadata": {
            "tags": []
          },
          "execution_count": 69
        }
      ]
    },
    {
      "cell_type": "code",
      "metadata": {
        "colab": {
          "base_uri": "https://localhost:8080/"
        },
        "id": "aYeKtJSfQClX",
        "outputId": "3f74eaca-8211-4b3b-91c9-5fbf6169dfd2"
      },
      "source": [
        "#selecting most popular station and its postal code at the most popular hour\n",
        "y.groupby(['public_name','postal_code'])['bluecar_counter'].count().sort_values(ascending=False).head(1)"
      ],
      "execution_count": 70,
      "outputs": [
        {
          "output_type": "execute_result",
          "data": {
            "text/plain": [
              "public_name               postal_code\n",
              "Paris/Vincent Auriol/143  75013          1\n",
              "Name: bluecar_counter, dtype: int64"
            ]
          },
          "metadata": {
            "tags": []
          },
          "execution_count": 70
        }
      ]
    },
    {
      "cell_type": "markdown",
      "metadata": {
        "id": "nn-sx2BGQNLX"
      },
      "source": [
        "###Utilib_1.4"
      ]
    },
    {
      "cell_type": "markdown",
      "metadata": {
        "id": "wq3J1X7QQTVJ"
      },
      "source": [
        "-Identify the most popular hour of the day for picking up a shared electric car (Utilib) in the city of Paris over the month of April 2018"
      ]
    },
    {
      "cell_type": "code",
      "metadata": {
        "colab": {
          "base_uri": "https://localhost:8080/"
        },
        "id": "k6zoSvpqQZ-3",
        "outputId": "c9be76c9-ba65-444a-a0c7-df72e2184d7f"
      },
      "source": [
        "#filtering only those cars that were being picked\n",
        "x=dp[dp['utilib_1.4_counter']<0]\n",
        "#grouping by hour then selecting the one with most counts\n",
        "x.groupby(x['datetime'].dt.hour)['bluecar_counter'].count().sort_values(ascending=False).head(1)"
      ],
      "execution_count": 71,
      "outputs": [
        {
          "output_type": "execute_result",
          "data": {
            "text/plain": [
              "datetime\n",
              "18    15\n",
              "Name: bluecar_counter, dtype: int64"
            ]
          },
          "metadata": {
            "tags": []
          },
          "execution_count": 71
        }
      ]
    },
    {
      "cell_type": "markdown",
      "metadata": {
        "id": "3wAhwDMSQmfy"
      },
      "source": [
        "What is the most popular hour for returning cars?"
      ]
    },
    {
      "cell_type": "code",
      "metadata": {
        "colab": {
          "base_uri": "https://localhost:8080/"
        },
        "id": "in2Y1tQMQnyx",
        "outputId": "6a56110c-fb81-42e2-f583-5607cad3ec6a"
      },
      "source": [
        "#filtering cars that were being picked\n",
        "x=dp[dp['utilib_1.4_counter']>0]\n",
        "#grouping by hour then selecting the one with most counts\n",
        "x.groupby(x['datetime'].dt.hour)['bluecar_counter'].count().sort_values(ascending=False).head(1)"
      ],
      "execution_count": 72,
      "outputs": [
        {
          "output_type": "execute_result",
          "data": {
            "text/plain": [
              "datetime\n",
              "21    14\n",
              "Name: bluecar_counter, dtype: int64"
            ]
          },
          "metadata": {
            "tags": []
          },
          "execution_count": 72
        }
      ]
    },
    {
      "cell_type": "markdown",
      "metadata": {
        "id": "yyacFYuSY7F3"
      },
      "source": [
        "-What station is the most popular?\n",
        "\n",
        "Overall?"
      ]
    },
    {
      "cell_type": "code",
      "metadata": {
        "colab": {
          "base_uri": "https://localhost:8080/"
        },
        "id": "v3Sr9bU8Y94m",
        "outputId": "bc78c392-e622-405f-914f-8aad82822fc7"
      },
      "source": [
        "#grouping by station and picking the most popular\n",
        "dp.groupby('public_name')['utilib_counter'].count().sort_values(ascending=False).head(1)"
      ],
      "execution_count": 91,
      "outputs": [
        {
          "output_type": "execute_result",
          "data": {
            "text/plain": [
              "public_name\n",
              "Paris/Porte de Montrouge/8    13\n",
              "Name: utilib_counter, dtype: int64"
            ]
          },
          "metadata": {
            "tags": []
          },
          "execution_count": 91
        }
      ]
    },
    {
      "cell_type": "markdown",
      "metadata": {
        "id": "Q8ymcOmZZESO"
      },
      "source": [
        "At the most popular picking hour?"
      ]
    },
    {
      "cell_type": "code",
      "metadata": {
        "colab": {
          "base_uri": "https://localhost:8080/"
        },
        "id": "kvbO1xV1ZSBA",
        "outputId": "3bc3a4db-332a-4030-9165-32bdf116603e"
      },
      "source": [
        "x=dp[dp.datetime.dt.hour==18]\n",
        "#grouping by station and picking the most popular\n",
        "x.groupby('public_name')['bluecar_counter'].count().sort_values(ascending=False).head(1)"
      ],
      "execution_count": 92,
      "outputs": [
        {
          "output_type": "execute_result",
          "data": {
            "text/plain": [
              "public_name\n",
              "Paris/25 AoÃ»t 1944/8    2\n",
              "Name: bluecar_counter, dtype: int64"
            ]
          },
          "metadata": {
            "tags": []
          },
          "execution_count": 92
        }
      ]
    },
    {
      "cell_type": "markdown",
      "metadata": {
        "id": "nDdmcOAWQw8M"
      },
      "source": [
        "What postal code is the most popular for picking up Blue cars? Does the most popular station belong to that postal code?\n",
        "\n",
        "Overall?"
      ]
    },
    {
      "cell_type": "code",
      "metadata": {
        "colab": {
          "base_uri": "https://localhost:8080/"
        },
        "id": "YLIQOIxoQ2e-",
        "outputId": "b302b80d-7f71-4130-88ef-8eac316d03e8"
      },
      "source": [
        "#filtering cars that were being picked\n",
        "x=dp[dp['utilib_1.4_counter']<0]\n",
        "#selecting the most popular postal code\n",
        "x.groupby('postal_code')['bluecar_counter'].count().sort_values(ascending=False).head(1)"
      ],
      "execution_count": 73,
      "outputs": [
        {
          "output_type": "execute_result",
          "data": {
            "text/plain": [
              "postal_code\n",
              "75017    24\n",
              "Name: bluecar_counter, dtype: int64"
            ]
          },
          "metadata": {
            "tags": []
          },
          "execution_count": 73
        }
      ]
    },
    {
      "cell_type": "code",
      "metadata": {
        "colab": {
          "base_uri": "https://localhost:8080/"
        },
        "id": "LBgaG8HrRE_8",
        "outputId": "56bf70b2-2be3-4760-f831-dde13e696ad0"
      },
      "source": [
        "#selecting the most popular station for picking cars and its postal code\n",
        "x.groupby(['public_name','postal_code'])['bluecar_counter'].count().sort_values(ascending=False).head(1)"
      ],
      "execution_count": 74,
      "outputs": [
        {
          "output_type": "execute_result",
          "data": {
            "text/plain": [
              "public_name       postal_code\n",
              "Paris/Lourmel/33  75015          3\n",
              "Name: bluecar_counter, dtype: int64"
            ]
          },
          "metadata": {
            "tags": []
          },
          "execution_count": 74
        }
      ]
    },
    {
      "cell_type": "markdown",
      "metadata": {
        "id": "ncN52m-QROKK"
      },
      "source": [
        "At the most popular picking hour?"
      ]
    },
    {
      "cell_type": "code",
      "metadata": {
        "colab": {
          "base_uri": "https://localhost:8080/"
        },
        "id": "VXZOUfpMRREN",
        "outputId": "38d07311-2d73-4b8f-f46a-10380abe18aa"
      },
      "source": [
        "#filtering cars that were being picked by the most popular hour\n",
        "y=x[x.datetime.dt.hour==18]\n",
        "#selecting most popular postal code\n",
        "y.groupby('postal_code')['bluecar_counter'].count().sort_values(ascending=False).head(1)"
      ],
      "execution_count": 75,
      "outputs": [
        {
          "output_type": "execute_result",
          "data": {
            "text/plain": [
              "postal_code\n",
              "75016    3\n",
              "Name: bluecar_counter, dtype: int64"
            ]
          },
          "metadata": {
            "tags": []
          },
          "execution_count": 75
        }
      ]
    },
    {
      "cell_type": "code",
      "metadata": {
        "colab": {
          "base_uri": "https://localhost:8080/"
        },
        "id": "q9Z5xwSfRwrN",
        "outputId": "b6f79a14-8a79-46a6-b0fe-9f698375a5e8"
      },
      "source": [
        "#selecting most popular station and its postal code at the most popular hour\n",
        "y.groupby(['public_name','postal_code'])['bluecar_counter'].count().sort_values(ascending=False).head(1)"
      ],
      "execution_count": 76,
      "outputs": [
        {
          "output_type": "execute_result",
          "data": {
            "text/plain": [
              "public_name         postal_code\n",
              "Paris/Voltaire/236  75011          1\n",
              "Name: bluecar_counter, dtype: int64"
            ]
          },
          "metadata": {
            "tags": []
          },
          "execution_count": 76
        }
      ]
    }
  ]
}